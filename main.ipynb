{
 "cells": [
  {
   "cell_type": "code",
   "execution_count": null,
   "metadata": {},
   "outputs": [],
   "source": [
    "/* 8. Create a demo of storing order data in DynamoDB. \n",
    " *    Your demo should assume you need to store the things needed for an online eCommerce solution. \n",
    " *    For local development, I recommend installing the LocalStack AWS emulator.\n",
    " */\n",
    "import { CreateTableCommand, DeleteTableCommand, DynamoDBClient } from '@aws-sdk/client-dynamodb';\n",
    "import { BatchGetCommand, BatchWriteCommand } from '@aws-sdk/lib-dynamodb';"
   ]
  },
  {
   "cell_type": "code",
   "execution_count": null,
   "metadata": {},
   "outputs": [],
   "source": [
    "const client = new DynamoDBClient({\n",
    "    endpoint: 'http://localhost:4566',\n",
    "    region: 'us-east-1',\n",
    "    credentials: {\n",
    "      accessKeyId: 'test',\n",
    "      secretAccessKey: 'test',\n",
    "    },\n",
    "  });"
   ]
  },
  {
   "cell_type": "code",
   "execution_count": null,
   "metadata": {},
   "outputs": [],
   "source": [
    "await client.send(\n",
    "    new CreateTableCommand({\n",
    "      'TableName': 'Orders',\n",
    "      'AttributeDefinitions': [{ AttributeName: 'OrderID', AttributeType: 'S' }],\n",
    "      'KeySchema': [{ AttributeName: 'OrderID', KeyType: 'HASH' }],\n",
    "      'ProvisionedThroughput': { ReadCapacityUnits: 5, WriteCapacityUnits: 5 },\n",
    "    }),\n",
    "  ).then((data) => {\n",
    "    console.log(data);\n",
    "  }).catch((error) => {\n",
    "    console.error(error);\n",
    "  });"
   ]
  },
  {
   "cell_type": "code",
   "execution_count": null,
   "metadata": {},
   "outputs": [],
   "source": [
    "const orders = [\n",
    "    {\n",
    "      PutRequest: {\n",
    "        Item: {\n",
    "          OrderID: crypto.randomUUID(),\n",
    "          OrderDate: new Date().toISOString(),\n",
    "          CustomerID: crypto.randomUUID(),\n",
    "          OrderItems: [\n",
    "            { ItemID: crypto.randomUUID(), Quantity: 1, Price: 10.00 },\n",
    "            { ItemID: crypto.randomUUID(), Quantity: 2, Price: 15.00 },\n",
    "          ],\n",
    "          OrderTotal: 25.00,\n",
    "        },\n",
    "      },\n",
    "    },\n",
    "    {\n",
    "      PutRequest: {\n",
    "        Item: {\n",
    "          OrderID: crypto.randomUUID(),\n",
    "          OrderDate: new Date().toISOString(),\n",
    "          CustomerID: crypto.randomUUID(),\n",
    "          OrderItems: [\n",
    "            { ItemID: crypto.randomUUID(), Quantity: 1, Price: 20.00 },\n",
    "            { ItemID: crypto.randomUUID(), Quantity: 3, Price: 30.00 },\n",
    "          ],\n",
    "          OrderTotal: 50.00,\n",
    "        },\n",
    "      },\n",
    "    },\n",
    "  ];\n",
    "  \n",
    "  await client.send(\n",
    "    new BatchWriteCommand({\n",
    "      RequestItems: {\n",
    "        Orders: orders,\n",
    "      },\n",
    "    }),\n",
    "  ).then((data) => {\n",
    "    console.log(data);\n",
    "  }).catch((error) => {\n",
    "    console.error(error);\n",
    "  });"
   ]
  },
  {
   "cell_type": "code",
   "execution_count": null,
   "metadata": {},
   "outputs": [],
   "source": [
    "const keys = { Keys: orders.map((order) => ({ OrderID: order.PutRequest.Item.OrderID })) };\n",
    "await client.send(\n",
    "  new BatchGetCommand({\n",
    "    RequestItems: {\n",
    "      Orders: keys,\n",
    "    },\n",
    "  }),\n",
    ").then((data) => {\n",
    "  console.log(data.Responses);\n",
    "}).catch((error) => {\n",
    "  console.error(error);\n",
    "});"
   ]
  },
  {
   "cell_type": "code",
   "execution_count": null,
   "metadata": {},
   "outputs": [],
   "source": [
    "await client.send(\n",
    "    new DeleteTableCommand({ TableName: 'Orders' }),\n",
    "  ).then((data) => {\n",
    "    console.log(data);\n",
    "  }).catch((error) => {\n",
    "    console.error(error);\n",
    "  });"
   ]
  }
 ],
 "metadata": {
  "kernelspec": {
   "display_name": "Deno",
   "language": "typescript",
   "name": "deno"
  },
  "language_info": {
   "codemirror_mode": "typescript",
   "file_extension": ".ts",
   "mimetype": "text/x.typescript",
   "name": "typescript",
   "nbconvert_exporter": "script",
   "pygments_lexer": "typescript",
   "version": "5.7.3"
  }
 },
 "nbformat": 4,
 "nbformat_minor": 2
}
